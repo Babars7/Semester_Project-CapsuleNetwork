{
 "cells": [
  {
   "cell_type": "code",
   "execution_count": 1,
   "id": "christian-catch",
   "metadata": {},
   "outputs": [],
   "source": [
    "import torch\n",
    "import torchvision\n",
    "import torchvision.transforms as transforms\n",
    "import torch.nn as nn\n",
    "import torch.nn.functional as F\n",
    "import torch.optim as optim\n",
    "from matplotlib.pyplot import *\n",
    "from torch.optim import Adam"
   ]
  },
  {
   "cell_type": "code",
   "execution_count": 2,
   "id": "confident-anxiety",
   "metadata": {},
   "outputs": [
    {
     "name": "stdout",
     "output_type": "stream",
     "text": [
      "Files already downloaded and verified\n",
      "Files already downloaded and verified\n"
     ]
    }
   ],
   "source": [
    "#Data Loading\n",
    "#Load train set and test set and normalize the images in range [-1,1]\n",
    "transform = transforms.Compose(\n",
    "    [transforms.ToTensor(),\n",
    "     transforms.Normalize((0.5, 0.5, 0.5), (0.5, 0.5, 0.5))])\n",
    "\n",
    "#50000 images training\n",
    "trainset = torchvision.datasets.CIFAR10(root='./data', train=True,\n",
    "                                        download=True, transform=transform)\n",
    "#We load 4 samples per batchreduce the traininset to 12500\n",
    "trainloader = torch.utils.data.DataLoader(trainset, batch_size=4,\n",
    "                                          shuffle=True, num_workers=2)\n",
    "\n",
    "#print(len(trainset))\n",
    "#10000 images test\n",
    "testset = torchvision.datasets.CIFAR10(root='./data', train=False,\n",
    "                                       download=True, transform=transform)\n",
    "testloader = torch.utils.data.DataLoader(testset, batch_size=4,\n",
    "                                         shuffle=False, num_workers=2)\n",
    "\n",
    "classes = ('plane', 'car', 'bird', 'cat',\n",
    "           'deer', 'dog', 'frog', 'horse', 'ship', 'truck')"
   ]
  },
  {
   "cell_type": "code",
   "execution_count": 4,
   "id": "violent-occurrence",
   "metadata": {},
   "outputs": [],
   "source": [
    "#CNN definition\n",
    "class Net(nn.Module):\n",
    "    def __init__(self): #here you define de frame \n",
    "        super(Net, self).__init__()\n",
    "        #input images: 32x32x3\n",
    "        self.conv1 = nn.Conv2d(3, 6, 5)\n",
    "        #torch.nn.Conv2d(in_channels, out_channels, kernel_size) stride=1, padding=0, dilation=1\n",
    "        self.pool = nn.MaxPool2d(2, 2)\n",
    "        #nn.MaxPool2d(kernel_size, stride=None)\n",
    "        self.conv2 = nn.Conv2d(6, 16, 5)\n",
    "        \n",
    "        \n",
    "        #FC layers\n",
    "        self.fc1 = nn.Linear(16 * 5 * 5, 120)\n",
    "        #applies linear transformation to the incoming data y=x*A'+b\n",
    "        #torch.nn.Linear(in_features, out_features, bias=True)\n",
    "        self.fc2 = nn.Linear(120, 84)\n",
    "        self.fc3 = nn.Linear(84, 10)\n",
    "\n",
    "    def forward(self, x): #here you define the connections between the different layers\n",
    "        x = self.pool(F.relu(self.conv1(x)))\n",
    "        x = self.pool(F.relu(self.conv2(x)))\n",
    "        x = x.view(-1, 16 * 5 * 5)\n",
    "        # keep same infos but change the shape in a 2d tensor\n",
    "        x = F.relu(self.fc1(x))\n",
    "        #apply activation fct with RELU\n",
    "        x = F.relu(self.fc2(x))\n",
    "        x = self.fc3(x)\n",
    "        return x\n",
    "\n",
    "\n",
    "net = Net()"
   ]
  },
  {
   "cell_type": "code",
   "execution_count": 5,
   "id": "invisible-cricket",
   "metadata": {},
   "outputs": [
    {
     "name": "stdout",
     "output_type": "stream",
     "text": [
      "10\n",
      "torch.Size([16, 6, 5, 5])\n"
     ]
    }
   ],
   "source": [
    "#params = list(net.parameters())\n",
    "#print(len(params))\n",
    "#print(params[2].size())  "
   ]
  },
  {
   "cell_type": "code",
   "execution_count": 7,
   "id": "continuous-design",
   "metadata": {},
   "outputs": [],
   "source": [
    "#Define Loss function and optimizer\n",
    "# Loss Function: cross entropy\n",
    "# Optimizer: SGD\n",
    "criterion = nn.CrossEntropyLoss() #loss function\n",
    "optimizer = optim.SGD(net.parameters(), lr=0.001, momentum=0.9) #SGD method to fit weights and biases to groundtruth\n",
    "#optimizer = Adam(net.parameters())"
   ]
  },
  {
   "cell_type": "code",
   "execution_count": 8,
   "id": "constant-profile",
   "metadata": {},
   "outputs": [
    {
     "name": "stdout",
     "output_type": "stream",
     "text": [
      "[1,  2000] loss: 1.008\n",
      "[1,  4000] loss: 1.006\n",
      "[1,  6000] loss: 1.006\n",
      "[1,  8000] loss: 1.027\n",
      "[1, 10000] loss: 1.033\n",
      "[1, 12000] loss: 1.043\n",
      "[2,  2000] loss: 0.957\n",
      "[2,  4000] loss: 0.945\n",
      "[2,  6000] loss: 0.959\n",
      "[2,  8000] loss: 0.970\n",
      "[2, 10000] loss: 0.990\n",
      "[2, 12000] loss: 0.988\n",
      "[3,  2000] loss: 0.895\n",
      "[3,  4000] loss: 0.898\n",
      "[3,  6000] loss: 0.927\n",
      "[3,  8000] loss: 0.944\n",
      "[3, 10000] loss: 0.930\n",
      "[3, 12000] loss: 0.958\n",
      "[4,  2000] loss: 0.853\n",
      "[4,  4000] loss: 0.853\n",
      "[4,  6000] loss: 0.900\n",
      "[4,  8000] loss: 0.893\n",
      "[4, 10000] loss: 0.897\n",
      "[4, 12000] loss: 0.904\n",
      "[5,  2000] loss: 0.802\n",
      "[5,  4000] loss: 0.847\n",
      "[5,  6000] loss: 0.853\n",
      "[5,  8000] loss: 0.874\n",
      "[5, 10000] loss: 0.863\n",
      "[5, 12000] loss: 0.882\n",
      "[6,  2000] loss: 0.797\n",
      "[6,  4000] loss: 0.782\n",
      "[6,  6000] loss: 0.804\n",
      "[6,  8000] loss: 0.837\n",
      "[6, 10000] loss: 0.866\n",
      "[6, 12000] loss: 0.840\n",
      "[7,  2000] loss: 0.724\n",
      "[7,  4000] loss: 0.790\n",
      "[7,  6000] loss: 0.783\n",
      "[7,  8000] loss: 0.811\n",
      "[7, 10000] loss: 0.802\n",
      "[7, 12000] loss: 0.826\n",
      "[8,  2000] loss: 0.723\n",
      "[8,  4000] loss: 0.750\n",
      "[8,  6000] loss: 0.767\n",
      "[8,  8000] loss: 0.783\n",
      "[8, 10000] loss: 0.805\n",
      "[8, 12000] loss: 0.818\n",
      "Finished Training\n"
     ]
    }
   ],
   "source": [
    "#Training network over 2 epochs\n",
    "epochs=8\n",
    "for epoch in range(epochs):  # loop over the dataset multiple times\n",
    "\n",
    "    running_loss = 0.0\n",
    "    for i, data in enumerate(trainloader, 0):\n",
    "        # get the inputs; data is a list of [inputs, labels]\n",
    "        inputs, labels = data\n",
    "\n",
    "        # zero the parameter gradients\n",
    "        optimizer.zero_grad()\n",
    "\n",
    "        # forward + backward + optimize\n",
    "        outputs = net(inputs)\n",
    "        #print('inputs',inputs.size(),'labels',labels.size(),'outpu',outputs.size())\n",
    "        #print('outputs:',outputs.type(),'labels:',labels.type())\n",
    "        loss = criterion(outputs, labels)\n",
    "        loss.backward()\n",
    "        optimizer.step()#for backpropagation we use SGD here implemented cross entropy loss\n",
    "        #here we update weights in net\n",
    "        \n",
    "        # print statistics\n",
    "        running_loss += loss.item()\n",
    "        if i % 2000 == 1999:    # print every 2000 mini-batches\n",
    "            print('[%d, %5d] loss: %.3f' %\n",
    "                  (epoch + 1, i + 1, running_loss / 2000))\n",
    "            running_loss = 0.0\n",
    "\n",
    "print('Finished Training')"
   ]
  },
  {
   "cell_type": "code",
   "execution_count": 9,
   "id": "signed-vocabulary",
   "metadata": {},
   "outputs": [],
   "source": [
    "#training saving\n",
    "PATH = './cifar_net_8epochs.pth'\n",
    "torch.save(net.state_dict(), PATH)"
   ]
  },
  {
   "cell_type": "code",
   "execution_count": 10,
   "id": "laden-hunter",
   "metadata": {},
   "outputs": [
    {
     "name": "stdout",
     "output_type": "stream",
     "text": [
      "Accuracy of the network on the 10000 test images: 61 %\n"
     ]
    }
   ],
   "source": [
    "#Test\n",
    "#dataiter = iter(testloader)\n",
    "#images, labels = dataiter.next()\n",
    "\n",
    "PATH = './cifar_net_4epochs.pth'\n",
    "#Load previously net from choosen training\n",
    "net = Net()\n",
    "net.load_state_dict(torch.load(PATH))\n",
    "\n",
    "correct = 0\n",
    "total = 0\n",
    "with torch.no_grad(): #desactivate autograd engine ( used to perform validation )\n",
    "    for data in testloader:\n",
    "        images, labels = data\n",
    "        #print('images',images.size(),'labels',labels.size())\n",
    "        outputs = net(images) #apply our updated CNN to images of test set\n",
    "        #print ('outputs',outputs.size())\n",
    "        _, predicted = torch.max(outputs.data, 1) #torch.max(input, dim) return maximum value of all element from input tensor in the given dim\n",
    "        total += labels.size(0) #count the number of labels with right shape\n",
    "        correct += (predicted == labels).sum().item() #count the number of right labels \n",
    "\n",
    "print('Accuracy of the network on the 10000 test images: %d %%' % (\n",
    "    100 * correct / total))\n",
    "#0.63 accuracy with SGD + momentum optimizer\n",
    "#0.58 accury with Adam optimizer"
   ]
  },
  {
   "cell_type": "code",
   "execution_count": 11,
   "id": "later-wesley",
   "metadata": {},
   "outputs": [
    {
     "name": "stdout",
     "output_type": "stream",
     "text": [
      "GroundTruth:    cat   dog   car horse\n",
      "Predicted:    cat   dog   car horse\n",
      "Accuracy of plane : 55 %\n",
      "Accuracy of   car : 79 %\n",
      "Accuracy of  bird : 49 %\n",
      "Accuracy of   cat : 41 %\n",
      "Accuracy of  deer : 51 %\n",
      "Accuracy of   dog : 47 %\n",
      "Accuracy of  frog : 72 %\n",
      "Accuracy of horse : 68 %\n",
      "Accuracy of  ship : 81 %\n",
      "Accuracy of truck : 68 %\n"
     ]
    }
   ],
   "source": [
    "#Optional but good to know\n",
    "\n",
    "# print images: Preview of the results of our network ##########\n",
    "#imshow(torchvision.utils.make_grid(images))\n",
    "\n",
    "print('GroundTruth: ', ' '.join('%5s' % classes[labels[j]] for j in range(4)))\n",
    "\n",
    "net = Net()\n",
    "net.load_state_dict(torch.load(PATH))\n",
    "\n",
    "outputs = net(images)\n",
    "\n",
    "_, predicted = torch.max(outputs, 1)\n",
    "\n",
    "print('Predicted: ', ' '.join('%5s' % classes[predicted[j]]\n",
    "                              for j in range(4)))\n",
    "################################################################\n",
    "\n",
    "\n",
    "#How to know the performance of each class #############\n",
    "class_correct = list(0. for i in range(10))\n",
    "class_total = list(0. for i in range(10))\n",
    "with torch.no_grad():\n",
    "    for data in testloader:\n",
    "        images, labels = data\n",
    "        outputs = net(images)\n",
    "        _, predicted = torch.max(outputs, 1)\n",
    "        c = (predicted == labels).squeeze()\n",
    "        for i in range(4):\n",
    "            label = labels[i]\n",
    "            class_correct[label] += c[i].item()\n",
    "            class_total[label] += 1\n",
    "\n",
    "\n",
    "for i in range(10):\n",
    "    print('Accuracy of %5s : %2d %%' % (\n",
    "        classes[i], 100 * class_correct[i] / class_total[i]))\n",
    "############################################################\n",
    "\n"
   ]
  },
  {
   "cell_type": "code",
   "execution_count": null,
   "id": "mental-retirement",
   "metadata": {},
   "outputs": [],
   "source": []
  },
  {
   "cell_type": "code",
   "execution_count": null,
   "id": "precious-pharmacy",
   "metadata": {},
   "outputs": [],
   "source": []
  }
 ],
 "metadata": {
  "kernelspec": {
   "display_name": "Python 3",
   "language": "python",
   "name": "python3"
  },
  "language_info": {
   "codemirror_mode": {
    "name": "ipython",
    "version": 3
   },
   "file_extension": ".py",
   "mimetype": "text/x-python",
   "name": "python",
   "nbconvert_exporter": "python",
   "pygments_lexer": "ipython3",
   "version": "3.8.3"
  }
 },
 "nbformat": 4,
 "nbformat_minor": 5
}
